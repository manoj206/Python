{
 "cells": [
  {
   "cell_type": "code",
   "execution_count": 1,
   "id": "8cc644f3",
   "metadata": {},
   "outputs": [],
   "source": [
    "import psycopg2\n",
    "import pandas as pd"
   ]
  },
  {
   "cell_type": "markdown",
   "id": "27a2930b",
   "metadata": {},
   "source": [
    "## Make a connection to the existing database, initiate a cursor instance that launches queries and use that to create a new database."
   ]
  },
  {
   "cell_type": "code",
   "execution_count": 2,
   "id": "37c757f6",
   "metadata": {},
   "outputs": [],
   "source": [
    "def create_database():\n",
    "    \n",
    "    conn = psycopg2.connect(\"host=127.0.0.1 dbname=postgres user=postgres password=root\")\n",
    "    conn.set_session(autocommit=True)\n",
    "    cur = conn.cursor()\n",
    "    \n",
    "    cur.execute(\"DROP DATABASE craftbeers\")\n",
    "    cur.execute(\"CREATE DATABASE craftbeers\")\n",
    "    \n",
    "    conn.close()\n",
    "    \n",
    "    conn = psycopg2.connect(\"host=127.0.0.1 dbname=craftbeers user=postgres password=root\")\n",
    "    cur = conn.cursor()\n",
    "    \n",
    "    return cur, conn"
   ]
  },
  {
   "cell_type": "markdown",
   "id": "57f49137",
   "metadata": {},
   "source": [
    "## Methods to execute query and commit the same during creating and dropping tables."
   ]
  },
  {
   "cell_type": "code",
   "execution_count": 3,
   "id": "1c3f02f5",
   "metadata": {},
   "outputs": [],
   "source": [
    "def drop_tables(cur, con):\n",
    "    for query in drop_table_queries:\n",
    "        cur.execute(query)\n",
    "        conn.commit()\n",
    "    "
   ]
  },
  {
   "cell_type": "code",
   "execution_count": 4,
   "id": "a9661dce",
   "metadata": {},
   "outputs": [],
   "source": [
    "def create_tables(cur, con):\n",
    "    for query in create_table_queries:\n",
    "        cur.execute(query)\n",
    "        conn.commit()"
   ]
  },
  {
   "cell_type": "markdown",
   "id": "bcf7e3a6",
   "metadata": {},
   "source": [
    "```\n",
    "head() -  prints first 5 rows of the dataset.\n",
    "```"
   ]
  },
  {
   "cell_type": "code",
   "execution_count": 5,
   "id": "04207c0e",
   "metadata": {},
   "outputs": [],
   "source": [
    "BeersInfo = pd.read_csv(\"Data/beers.csv\")"
   ]
  },
  {
   "cell_type": "code",
   "execution_count": 6,
   "id": "f22ae89c",
   "metadata": {},
   "outputs": [
    {
     "data": {
      "text/html": [
       "<div>\n",
       "<style scoped>\n",
       "    .dataframe tbody tr th:only-of-type {\n",
       "        vertical-align: middle;\n",
       "    }\n",
       "\n",
       "    .dataframe tbody tr th {\n",
       "        vertical-align: top;\n",
       "    }\n",
       "\n",
       "    .dataframe thead th {\n",
       "        text-align: right;\n",
       "    }\n",
       "</style>\n",
       "<table border=\"1\" class=\"dataframe\">\n",
       "  <thead>\n",
       "    <tr style=\"text-align: right;\">\n",
       "      <th></th>\n",
       "      <th>Unnamed: 0</th>\n",
       "      <th>abv</th>\n",
       "      <th>ibu</th>\n",
       "      <th>beer_id</th>\n",
       "      <th>name</th>\n",
       "      <th>style</th>\n",
       "      <th>brewery_id</th>\n",
       "      <th>ounces</th>\n",
       "    </tr>\n",
       "  </thead>\n",
       "  <tbody>\n",
       "    <tr>\n",
       "      <th>0</th>\n",
       "      <td>0</td>\n",
       "      <td>0.050</td>\n",
       "      <td>NaN</td>\n",
       "      <td>1436</td>\n",
       "      <td>Pub Beer</td>\n",
       "      <td>American Pale Lager</td>\n",
       "      <td>408</td>\n",
       "      <td>12.0</td>\n",
       "    </tr>\n",
       "    <tr>\n",
       "      <th>1</th>\n",
       "      <td>1</td>\n",
       "      <td>0.066</td>\n",
       "      <td>NaN</td>\n",
       "      <td>2265</td>\n",
       "      <td>Devil's Cup</td>\n",
       "      <td>American Pale Ale (APA)</td>\n",
       "      <td>177</td>\n",
       "      <td>12.0</td>\n",
       "    </tr>\n",
       "    <tr>\n",
       "      <th>2</th>\n",
       "      <td>2</td>\n",
       "      <td>0.071</td>\n",
       "      <td>NaN</td>\n",
       "      <td>2264</td>\n",
       "      <td>Rise of the Phoenix</td>\n",
       "      <td>American IPA</td>\n",
       "      <td>177</td>\n",
       "      <td>12.0</td>\n",
       "    </tr>\n",
       "    <tr>\n",
       "      <th>3</th>\n",
       "      <td>3</td>\n",
       "      <td>0.090</td>\n",
       "      <td>NaN</td>\n",
       "      <td>2263</td>\n",
       "      <td>Sinister</td>\n",
       "      <td>American Double / Imperial IPA</td>\n",
       "      <td>177</td>\n",
       "      <td>12.0</td>\n",
       "    </tr>\n",
       "    <tr>\n",
       "      <th>4</th>\n",
       "      <td>4</td>\n",
       "      <td>0.075</td>\n",
       "      <td>NaN</td>\n",
       "      <td>2262</td>\n",
       "      <td>Sex and Candy</td>\n",
       "      <td>American IPA</td>\n",
       "      <td>177</td>\n",
       "      <td>12.0</td>\n",
       "    </tr>\n",
       "  </tbody>\n",
       "</table>\n",
       "</div>"
      ],
      "text/plain": [
       "   Unnamed: 0    abv  ibu  beer_id                 name  \\\n",
       "0           0  0.050  NaN     1436             Pub Beer   \n",
       "1           1  0.066  NaN     2265          Devil's Cup   \n",
       "2           2  0.071  NaN     2264  Rise of the Phoenix   \n",
       "3           3  0.090  NaN     2263             Sinister   \n",
       "4           4  0.075  NaN     2262        Sex and Candy   \n",
       "\n",
       "                            style  brewery_id  ounces  \n",
       "0             American Pale Lager         408    12.0  \n",
       "1         American Pale Ale (APA)         177    12.0  \n",
       "2                    American IPA         177    12.0  \n",
       "3  American Double / Imperial IPA         177    12.0  \n",
       "4                    American IPA         177    12.0  "
      ]
     },
     "execution_count": 6,
     "metadata": {},
     "output_type": "execute_result"
    }
   ],
   "source": [
    "BeersInfo.head()"
   ]
  },
  {
   "cell_type": "markdown",
   "id": "900737ef",
   "metadata": {},
   "source": [
    "```\n",
    "Filtering the specific columns that we need to work.\n",
    "```"
   ]
  },
  {
   "cell_type": "code",
   "execution_count": 7,
   "id": "33e6919d",
   "metadata": {},
   "outputs": [
    {
     "data": {
      "text/html": [
       "<div>\n",
       "<style scoped>\n",
       "    .dataframe tbody tr th:only-of-type {\n",
       "        vertical-align: middle;\n",
       "    }\n",
       "\n",
       "    .dataframe tbody tr th {\n",
       "        vertical-align: top;\n",
       "    }\n",
       "\n",
       "    .dataframe thead th {\n",
       "        text-align: right;\n",
       "    }\n",
       "</style>\n",
       "<table border=\"1\" class=\"dataframe\">\n",
       "  <thead>\n",
       "    <tr style=\"text-align: right;\">\n",
       "      <th></th>\n",
       "      <th>abv</th>\n",
       "      <th>beer_id</th>\n",
       "      <th>name</th>\n",
       "      <th>style</th>\n",
       "      <th>brewery_id</th>\n",
       "      <th>ounces</th>\n",
       "    </tr>\n",
       "  </thead>\n",
       "  <tbody>\n",
       "    <tr>\n",
       "      <th>0</th>\n",
       "      <td>0.050</td>\n",
       "      <td>1436</td>\n",
       "      <td>Pub Beer</td>\n",
       "      <td>American Pale Lager</td>\n",
       "      <td>408</td>\n",
       "      <td>12.0</td>\n",
       "    </tr>\n",
       "    <tr>\n",
       "      <th>1</th>\n",
       "      <td>0.066</td>\n",
       "      <td>2265</td>\n",
       "      <td>Devil's Cup</td>\n",
       "      <td>American Pale Ale (APA)</td>\n",
       "      <td>177</td>\n",
       "      <td>12.0</td>\n",
       "    </tr>\n",
       "    <tr>\n",
       "      <th>2</th>\n",
       "      <td>0.071</td>\n",
       "      <td>2264</td>\n",
       "      <td>Rise of the Phoenix</td>\n",
       "      <td>American IPA</td>\n",
       "      <td>177</td>\n",
       "      <td>12.0</td>\n",
       "    </tr>\n",
       "    <tr>\n",
       "      <th>3</th>\n",
       "      <td>0.090</td>\n",
       "      <td>2263</td>\n",
       "      <td>Sinister</td>\n",
       "      <td>American Double / Imperial IPA</td>\n",
       "      <td>177</td>\n",
       "      <td>12.0</td>\n",
       "    </tr>\n",
       "    <tr>\n",
       "      <th>4</th>\n",
       "      <td>0.075</td>\n",
       "      <td>2262</td>\n",
       "      <td>Sex and Candy</td>\n",
       "      <td>American IPA</td>\n",
       "      <td>177</td>\n",
       "      <td>12.0</td>\n",
       "    </tr>\n",
       "  </tbody>\n",
       "</table>\n",
       "</div>"
      ],
      "text/plain": [
       "     abv  beer_id                 name                           style  \\\n",
       "0  0.050     1436             Pub Beer             American Pale Lager   \n",
       "1  0.066     2265          Devil's Cup         American Pale Ale (APA)   \n",
       "2  0.071     2264  Rise of the Phoenix                    American IPA   \n",
       "3  0.090     2263             Sinister  American Double / Imperial IPA   \n",
       "4  0.075     2262        Sex and Candy                    American IPA   \n",
       "\n",
       "   brewery_id  ounces  \n",
       "0         408    12.0  \n",
       "1         177    12.0  \n",
       "2         177    12.0  \n",
       "3         177    12.0  \n",
       "4         177    12.0  "
      ]
     },
     "execution_count": 7,
     "metadata": {},
     "output_type": "execute_result"
    }
   ],
   "source": [
    "BeersInfo_clean = BeersInfo[['abv', 'beer_id', 'name', 'style', 'brewery_id', 'ounces']]\n",
    "BeersInfo_clean.head()"
   ]
  },
  {
   "cell_type": "code",
   "execution_count": 8,
   "id": "3c1ccd62",
   "metadata": {},
   "outputs": [
    {
     "data": {
      "text/html": [
       "<div>\n",
       "<style scoped>\n",
       "    .dataframe tbody tr th:only-of-type {\n",
       "        vertical-align: middle;\n",
       "    }\n",
       "\n",
       "    .dataframe tbody tr th {\n",
       "        vertical-align: top;\n",
       "    }\n",
       "\n",
       "    .dataframe thead th {\n",
       "        text-align: right;\n",
       "    }\n",
       "</style>\n",
       "<table border=\"1\" class=\"dataframe\">\n",
       "  <thead>\n",
       "    <tr style=\"text-align: right;\">\n",
       "      <th></th>\n",
       "      <th>brewery_id</th>\n",
       "      <th>name</th>\n",
       "      <th>city</th>\n",
       "      <th>state</th>\n",
       "    </tr>\n",
       "  </thead>\n",
       "  <tbody>\n",
       "    <tr>\n",
       "      <th>0</th>\n",
       "      <td>0</td>\n",
       "      <td>NorthGate Brewing</td>\n",
       "      <td>Minneapolis</td>\n",
       "      <td>MN</td>\n",
       "    </tr>\n",
       "    <tr>\n",
       "      <th>1</th>\n",
       "      <td>1</td>\n",
       "      <td>Against the Grain Brewery</td>\n",
       "      <td>Louisville</td>\n",
       "      <td>KY</td>\n",
       "    </tr>\n",
       "    <tr>\n",
       "      <th>2</th>\n",
       "      <td>2</td>\n",
       "      <td>Jack's Abby Craft Lagers</td>\n",
       "      <td>Framingham</td>\n",
       "      <td>MA</td>\n",
       "    </tr>\n",
       "    <tr>\n",
       "      <th>3</th>\n",
       "      <td>3</td>\n",
       "      <td>Mike Hess Brewing Company</td>\n",
       "      <td>San Diego</td>\n",
       "      <td>CA</td>\n",
       "    </tr>\n",
       "    <tr>\n",
       "      <th>4</th>\n",
       "      <td>4</td>\n",
       "      <td>Fort Point Beer Company</td>\n",
       "      <td>San Francisco</td>\n",
       "      <td>CA</td>\n",
       "    </tr>\n",
       "  </tbody>\n",
       "</table>\n",
       "</div>"
      ],
      "text/plain": [
       "   brewery_id                       name           city state\n",
       "0           0         NorthGate Brewing     Minneapolis    MN\n",
       "1           1  Against the Grain Brewery     Louisville    KY\n",
       "2           2   Jack's Abby Craft Lagers     Framingham    MA\n",
       "3           3  Mike Hess Brewing Company      San Diego    CA\n",
       "4           4    Fort Point Beer Company  San Francisco    CA"
      ]
     },
     "execution_count": 8,
     "metadata": {},
     "output_type": "execute_result"
    }
   ],
   "source": [
    "Breweries = pd.read_csv(\"Data/breweries.csv\")\n",
    "Breweries.head()"
   ]
  },
  {
   "cell_type": "code",
   "execution_count": 9,
   "id": "ec861a76",
   "metadata": {},
   "outputs": [
    {
     "data": {
      "text/html": [
       "<div>\n",
       "<style scoped>\n",
       "    .dataframe tbody tr th:only-of-type {\n",
       "        vertical-align: middle;\n",
       "    }\n",
       "\n",
       "    .dataframe tbody tr th {\n",
       "        vertical-align: top;\n",
       "    }\n",
       "\n",
       "    .dataframe thead th {\n",
       "        text-align: right;\n",
       "    }\n",
       "</style>\n",
       "<table border=\"1\" class=\"dataframe\">\n",
       "  <thead>\n",
       "    <tr style=\"text-align: right;\">\n",
       "      <th></th>\n",
       "      <th>truck_id</th>\n",
       "      <th>model</th>\n",
       "      <th>city</th>\n",
       "      <th>fuel_type</th>\n",
       "      <th>owner</th>\n",
       "    </tr>\n",
       "  </thead>\n",
       "  <tbody>\n",
       "    <tr>\n",
       "      <th>0</th>\n",
       "      <td>5673</td>\n",
       "      <td>Red Truck</td>\n",
       "      <td>Minneapolis</td>\n",
       "      <td>petrol</td>\n",
       "      <td>NaN</td>\n",
       "    </tr>\n",
       "    <tr>\n",
       "      <th>1</th>\n",
       "      <td>3986</td>\n",
       "      <td>Tap Truck</td>\n",
       "      <td>Louisville</td>\n",
       "      <td>diesel</td>\n",
       "      <td>NaN</td>\n",
       "    </tr>\n",
       "    <tr>\n",
       "      <th>2</th>\n",
       "      <td>5871</td>\n",
       "      <td>Monarch Distributing</td>\n",
       "      <td>Framingham</td>\n",
       "      <td>petrol</td>\n",
       "      <td>NaN</td>\n",
       "    </tr>\n",
       "    <tr>\n",
       "      <th>3</th>\n",
       "      <td>2870</td>\n",
       "      <td>Chicago Beverage</td>\n",
       "      <td>San Diego</td>\n",
       "      <td>ECV</td>\n",
       "      <td>NaN</td>\n",
       "    </tr>\n",
       "    <tr>\n",
       "      <th>4</th>\n",
       "      <td>3510</td>\n",
       "      <td>Red Truck</td>\n",
       "      <td>San Francisco</td>\n",
       "      <td>diesel</td>\n",
       "      <td>NaN</td>\n",
       "    </tr>\n",
       "  </tbody>\n",
       "</table>\n",
       "</div>"
      ],
      "text/plain": [
       "   truck_id                 model           city fuel_type  owner\n",
       "0      5673             Red Truck    Minneapolis    petrol    NaN\n",
       "1      3986             Tap Truck     Louisville    diesel    NaN\n",
       "2      5871  Monarch Distributing     Framingham    petrol    NaN\n",
       "3      2870      Chicago Beverage      San Diego       ECV    NaN\n",
       "4      3510             Red Truck  San Francisco    diesel    NaN"
      ]
     },
     "execution_count": 9,
     "metadata": {},
     "output_type": "execute_result"
    }
   ],
   "source": [
    "Transport = pd.read_csv(\"Data/transport.csv\")\n",
    "Transport.head()"
   ]
  },
  {
   "cell_type": "code",
   "execution_count": 10,
   "id": "17b2ec30",
   "metadata": {},
   "outputs": [
    {
     "data": {
      "text/plain": [
       "Index(['truck_id', 'model', 'city', 'fuel_type', 'owner'], dtype='object')"
      ]
     },
     "execution_count": 10,
     "metadata": {},
     "output_type": "execute_result"
    }
   ],
   "source": [
    "Transport.columns"
   ]
  },
  {
   "cell_type": "markdown",
   "id": "94cee6fa",
   "metadata": {},
   "source": [
    "```\n",
    "Removing the unwanted column using drop() method.\n",
    "axis = 1 represents column, 0 represents row\n",
    "```"
   ]
  },
  {
   "cell_type": "code",
   "execution_count": 11,
   "id": "64212e90",
   "metadata": {},
   "outputs": [
    {
     "data": {
      "text/html": [
       "<div>\n",
       "<style scoped>\n",
       "    .dataframe tbody tr th:only-of-type {\n",
       "        vertical-align: middle;\n",
       "    }\n",
       "\n",
       "    .dataframe tbody tr th {\n",
       "        vertical-align: top;\n",
       "    }\n",
       "\n",
       "    .dataframe thead th {\n",
       "        text-align: right;\n",
       "    }\n",
       "</style>\n",
       "<table border=\"1\" class=\"dataframe\">\n",
       "  <thead>\n",
       "    <tr style=\"text-align: right;\">\n",
       "      <th></th>\n",
       "      <th>truck_id</th>\n",
       "      <th>model</th>\n",
       "      <th>city</th>\n",
       "      <th>fuel_type</th>\n",
       "    </tr>\n",
       "  </thead>\n",
       "  <tbody>\n",
       "    <tr>\n",
       "      <th>0</th>\n",
       "      <td>5673</td>\n",
       "      <td>Red Truck</td>\n",
       "      <td>Minneapolis</td>\n",
       "      <td>petrol</td>\n",
       "    </tr>\n",
       "    <tr>\n",
       "      <th>1</th>\n",
       "      <td>3986</td>\n",
       "      <td>Tap Truck</td>\n",
       "      <td>Louisville</td>\n",
       "      <td>diesel</td>\n",
       "    </tr>\n",
       "    <tr>\n",
       "      <th>2</th>\n",
       "      <td>5871</td>\n",
       "      <td>Monarch Distributing</td>\n",
       "      <td>Framingham</td>\n",
       "      <td>petrol</td>\n",
       "    </tr>\n",
       "    <tr>\n",
       "      <th>3</th>\n",
       "      <td>2870</td>\n",
       "      <td>Chicago Beverage</td>\n",
       "      <td>San Diego</td>\n",
       "      <td>ECV</td>\n",
       "    </tr>\n",
       "    <tr>\n",
       "      <th>4</th>\n",
       "      <td>3510</td>\n",
       "      <td>Red Truck</td>\n",
       "      <td>San Francisco</td>\n",
       "      <td>diesel</td>\n",
       "    </tr>\n",
       "  </tbody>\n",
       "</table>\n",
       "</div>"
      ],
      "text/plain": [
       "   truck_id                 model           city fuel_type\n",
       "0      5673             Red Truck    Minneapolis    petrol\n",
       "1      3986             Tap Truck     Louisville    diesel\n",
       "2      5871  Monarch Distributing     Framingham    petrol\n",
       "3      2870      Chicago Beverage      San Diego       ECV\n",
       "4      3510             Red Truck  San Francisco    diesel"
      ]
     },
     "execution_count": 11,
     "metadata": {},
     "output_type": "execute_result"
    }
   ],
   "source": [
    "Transport = Transport.drop(['owner'], axis=1)\n",
    "Transport.columns\n",
    "Transport.head()"
   ]
  },
  {
   "cell_type": "code",
   "execution_count": 12,
   "id": "e9244e4b",
   "metadata": {},
   "outputs": [],
   "source": [
    "cur, conn = create_database()"
   ]
  },
  {
   "cell_type": "markdown",
   "id": "47b4d8fc",
   "metadata": {},
   "source": [
    "### Create tables as per the data model - [BeerCraft.drawio]()"
   ]
  },
  {
   "cell_type": "code",
   "execution_count": 13,
   "id": "56747a0f",
   "metadata": {},
   "outputs": [],
   "source": [
    "breweries_create_table = (\"\"\"CREATE TABLE IF NOT EXISTS breweries(\n",
    "brewery_id INT PRIMARY KEY,\n",
    "name VARCHAR,\n",
    "city VARCHAR,\n",
    "state VARCHAR\n",
    ")\"\"\")\n",
    "\n",
    "cur.execute(breweries_create_table)\n",
    "conn.commit()"
   ]
  },
  {
   "cell_type": "code",
   "execution_count": 14,
   "id": "21f0ac5b",
   "metadata": {},
   "outputs": [],
   "source": [
    "beers_create_table = (\"\"\"CREATE TABLE IF NOT EXISTS beers(\n",
    "beer_id INT PRIMARY KEY,\n",
    "abv NUMERIC,\n",
    "name VARCHAR,\n",
    "style VARCHAR,\n",
    "brewery_id INT REFERENCES breweries (brewery_id),\n",
    "ounces NUMERIC     \n",
    ")\"\"\")\n",
    "\n",
    "cur.execute(beers_create_table)\n",
    "conn.commit()"
   ]
  },
  {
   "cell_type": "code",
   "execution_count": 15,
   "id": "72849a23",
   "metadata": {},
   "outputs": [],
   "source": [
    "transport_create_table = (\"\"\"CREATE TABLE IF NOT EXISTS transport(\n",
    "truck_id INT PRIMARY KEY,\n",
    "model VARCHAR,\n",
    "city VARCHAR,\n",
    "fuel_type VARCHAR   \n",
    ")\"\"\")\n",
    "\n",
    "cur.execute(transport_create_table)\n",
    "conn.commit()"
   ]
  },
  {
   "cell_type": "markdown",
   "id": "a44e4745",
   "metadata": {},
   "source": [
    "\n",
    "### Post inserting the data, loop thru the dataset while using .iterrows() method from pandas that returns couple of values -  i & row\n",
    "#### i - index, row - elements of the dataset(from list of lists)\n",
    "```\n",
    "Inside the loop, fire the query thru cursor by sending two parameters.\n",
    "1. insert-syntax thats assigned to a string variable\n",
    "2. each element in the dataset by converting it to a list\n",
    "```"
   ]
  },
  {
   "cell_type": "code",
   "execution_count": 16,
   "id": "b0e01657",
   "metadata": {},
   "outputs": [],
   "source": [
    "breweries_insert = (\"\"\"INSERT INTO breweries(\n",
    "brewery_id,\n",
    "name,\n",
    "city,\n",
    "state)\n",
    "VALUES(%s, %s, %s, %s)\n",
    "\"\"\")\n",
    "\n",
    "for i,row in Breweries.iterrows():\n",
    "    cur.execute(breweries_insert, list(row))"
   ]
  },
  {
   "cell_type": "code",
   "execution_count": 17,
   "id": "1b94dbb6",
   "metadata": {},
   "outputs": [],
   "source": [
    "beers_insert = (\"\"\"INSERT INTO beers(\n",
    "abv,\n",
    "beer_id,\n",
    "name,\n",
    "style,\n",
    "brewery_id,\n",
    "ounces)\n",
    "VALUES(%s, %s, %s, %s, %s, %s)\n",
    "\"\"\")\n",
    "\n",
    "for i,row in BeersInfo_clean.iterrows():\n",
    "    cur.execute(beers_insert, list(row))"
   ]
  },
  {
   "cell_type": "code",
   "execution_count": 18,
   "id": "66ebe297",
   "metadata": {},
   "outputs": [],
   "source": [
    "transport_insert = (\"\"\"INSERT INTO transport(\n",
    "truck_id,\n",
    "model,\n",
    "city,\n",
    "fuel_type)\n",
    "VALUES(%s, %s, %s, %s)\n",
    "\"\"\")\n",
    "\n",
    "for i,row in Transport.iterrows():\n",
    "    cur.execute(transport_insert, list(row))"
   ]
  },
  {
   "cell_type": "code",
   "execution_count": 19,
   "id": "d0b64d9c",
   "metadata": {},
   "outputs": [],
   "source": [
    "## Dont forget to commit the actions thru conn instance to reflect the data onto tables.\n",
    "conn.commit()"
   ]
  },
  {
   "cell_type": "code",
   "execution_count": 20,
   "id": "3f7ab6b9",
   "metadata": {},
   "outputs": [],
   "source": [
    "conn.close()"
   ]
  }
 ],
 "metadata": {
  "kernelspec": {
   "display_name": "Python 3 (ipykernel)",
   "language": "python",
   "name": "python3"
  },
  "language_info": {
   "codemirror_mode": {
    "name": "ipython",
    "version": 3
   },
   "file_extension": ".py",
   "mimetype": "text/x-python",
   "name": "python",
   "nbconvert_exporter": "python",
   "pygments_lexer": "ipython3",
   "version": "3.9.13"
  }
 },
 "nbformat": 4,
 "nbformat_minor": 5
}
