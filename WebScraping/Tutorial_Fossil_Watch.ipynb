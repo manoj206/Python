{
 "cells": [
  {
   "cell_type": "code",
   "execution_count": 2,
   "id": "7e08c747",
   "metadata": {},
   "outputs": [],
   "source": [
    "from bs4 import BeautifulSoup\n",
    "import requests\n",
    "import pandas as pd"
   ]
  },
  {
   "cell_type": "code",
   "execution_count": 3,
   "id": "32571cbe",
   "metadata": {},
   "outputs": [],
   "source": [
    "URL = \"https://www.amazon.in/s?k=fossil+watches+for+men&crid=F9V2HJV8ICHJ&sprefix=fossil+watches%2Caps%2C214&ref=nb_sb_ss_ts-doa-p_3_14\""
   ]
  },
  {
   "cell_type": "code",
   "execution_count": 4,
   "id": "e4b18361",
   "metadata": {},
   "outputs": [],
   "source": [
    "HEADERS = ({'User-Agent': '', 'Accept-Language': 'en-US, en;q=0.5'})"
   ]
  },
  {
   "cell_type": "code",
   "execution_count": 5,
   "id": "1f294889",
   "metadata": {},
   "outputs": [],
   "source": [
    "response = requests.get(URL, headers=HEADERS)"
   ]
  },
  {
   "cell_type": "code",
   "execution_count": 6,
   "id": "ae00e3d2",
   "metadata": {},
   "outputs": [
    {
     "data": {
      "text/plain": [
       "200"
      ]
     },
     "execution_count": 6,
     "metadata": {},
     "output_type": "execute_result"
    }
   ],
   "source": [
    "response.status_code"
   ]
  },
  {
   "cell_type": "code",
   "execution_count": 7,
   "id": "6e9c2922",
   "metadata": {},
   "outputs": [],
   "source": [
    "content = response.content"
   ]
  },
  {
   "cell_type": "code",
   "execution_count": 9,
   "id": "5ea223ec",
   "metadata": {},
   "outputs": [
    {
     "data": {
      "text/plain": [
       "bytes"
      ]
     },
     "execution_count": 9,
     "metadata": {},
     "output_type": "execute_result"
    }
   ],
   "source": [
    "type(content)"
   ]
  },
  {
   "cell_type": "code",
   "execution_count": 10,
   "id": "47ab7868",
   "metadata": {},
   "outputs": [],
   "source": [
    "parser = BeautifulSoup(content, 'html.parser')"
   ]
  },
  {
   "cell_type": "code",
   "execution_count": 12,
   "id": "1c8c9242",
   "metadata": {},
   "outputs": [
    {
     "data": {
      "text/plain": [
       "bs4.BeautifulSoup"
      ]
     },
     "execution_count": 12,
     "metadata": {},
     "output_type": "execute_result"
    }
   ],
   "source": [
    "type(parser)"
   ]
  },
  {
   "cell_type": "code",
   "execution_count": 13,
   "id": "343b5850",
   "metadata": {},
   "outputs": [],
   "source": [
    "# a stands for anchor links. We want to extract all existing links using the class element.\n",
    "\n",
    "links = parser.find_all(\"a\", attrs={'class': 'a-link-normal s-underline-text s-underline-link-text s-link-style a-text-normal'})"
   ]
  },
  {
   "cell_type": "code",
   "execution_count": 14,
   "id": "00ebed20",
   "metadata": {},
   "outputs": [
    {
     "data": {
      "text/plain": [
       "[<a class=\"a-link-normal s-underline-text s-underline-link-text s-link-style a-text-normal\" href=\"/sspa/click?ie=UTF8&amp;spc=MToxMzExNDQ5MTI3MzQyNDIzOjE2NzIzODUwMDU6c3BfYXRmOjIwMTAzNDU3NTA3MDk4OjowOjo&amp;url=%2FFossil-Autocross-Analog-Black-Watch-BQ2551%2Fdp%2FB09B44V1F9%2Fref%3Dsr_1_1_sspa%3Fcrid%3DF9V2HJV8ICHJ%26keywords%3Dfossil%2Bwatches%2Bfor%2Bmen%26qid%3D1672385005%26sprefix%3Dfossil%2Bwatches%252Caps%252C214%26sr%3D8-1-spons%26sp_csd%3Dd2lkZ2V0TmFtZT1zcF9hdGY%26psc%3D1\" target=\"_blank\"><span class=\"a-size-base-plus a-color-base a-text-normal\">Autocross Analog Black Dial Men's Watch-BQ2551</span> </a>,\n",
       " <a class=\"a-link-normal s-underline-text s-underline-link-text s-link-style a-text-normal\" href=\"/sspa/click?ie=UTF8&amp;spc=MToxMzExNDQ5MTI3MzQyNDIzOjE2NzIzODUwMDU6c3BfYXRmOjIwMDkxNzgyODUwNjk4OjowOjo&amp;url=%2FFossil-Bronson-Analog-Black-Watch-FS5940%2Fdp%2FB0B4H5DCCL%2Fref%3Dsr_1_2_sspa%3Fcrid%3DF9V2HJV8ICHJ%26keywords%3Dfossil%2Bwatches%2Bfor%2Bmen%26qid%3D1672385005%26sprefix%3Dfossil%2Bwatches%252Caps%252C214%26sr%3D8-2-spons%26sp_csd%3Dd2lkZ2V0TmFtZT1zcF9hdGY%26psc%3D1\" target=\"_blank\"><span class=\"a-size-base-plus a-color-base a-text-normal\">Bronson Analog Black Dial Men's Watch-FS5940</span> </a>,\n",
       " <a class=\"a-link-normal s-underline-text s-underline-link-text s-link-style a-text-normal\" href=\"/sspa/click?ie=UTF8&amp;spc=MToxMzExNDQ5MTI3MzQyNDIzOjE2NzIzODUwMDU6c3BfYXRmOjIwMDYwNDkwOTI0MDk4OjowOjo&amp;url=%2FFossil-Analog-Off-White-Dial-Watch-FS5402%2Fdp%2FB078C9288W%2Fref%3Dsr_1_3_sspa%3Fcrid%3DF9V2HJV8ICHJ%26keywords%3Dfossil%2Bwatches%2Bfor%2Bmen%26qid%3D1672385005%26sprefix%3Dfossil%2Bwatches%252Caps%252C214%26sr%3D8-3-spons%26sp_csd%3Dd2lkZ2V0TmFtZT1zcF9hdGY%26psc%3D1\" target=\"_blank\"><span class=\"a-size-base-plus a-color-base a-text-normal\">Analog Off-White Dial Men's Watch-FS5402</span> </a>,\n",
       " <a class=\"a-link-normal s-underline-text s-underline-link-text s-link-style a-text-normal\" href=\"/sspa/click?ie=UTF8&amp;spc=MToxMzExNDQ5MTI3MzQyNDIzOjE2NzIzODUwMDU6c3BfYXRmOjIwMDYwNDkwOTI0MTk4OjowOjo&amp;url=%2FFossil-Sullivan-Analog-Blue-Watch-BQ2512%2Fdp%2FB085PZGWSS%2Fref%3Dsr_1_4_sspa%3Fcrid%3DF9V2HJV8ICHJ%26keywords%3Dfossil%2Bwatches%2Bfor%2Bmen%26qid%3D1672385005%26sprefix%3Dfossil%2Bwatches%252Caps%252C214%26sr%3D8-4-spons%26sp_csd%3Dd2lkZ2V0TmFtZT1zcF9hdGY%26psc%3D1\" target=\"_blank\"><span class=\"a-size-base-plus a-color-base a-text-normal\">Sullivan Analog Blue Dial Men's Watch-BQ2512</span> </a>,\n",
       " <a class=\"a-link-normal s-underline-text s-underline-link-text s-link-style a-text-normal\" href=\"/Fossil-Season-Chronograph-Black-Watch/dp/B0183NW5H6/ref=sr_1_5?crid=F9V2HJV8ICHJ&amp;keywords=fossil+watches+for+men&amp;qid=1672385005&amp;sprefix=fossil+watches%2Caps%2C214&amp;sr=8-5\" target=\"_blank\"><span class=\"a-size-base-plus a-color-base a-text-normal\">Analog Black Dial Men's Watch-FS5164</span> </a>,\n",
       " <a class=\"a-link-normal s-underline-text s-underline-link-text s-link-style a-text-normal\" href=\"/Fossil-Analog-Blue-Dial-Watch-FS5237/dp/B01KNMEVDG/ref=sr_1_6?crid=F9V2HJV8ICHJ&amp;keywords=fossil+watches+for+men&amp;qid=1672385005&amp;sprefix=fossil+watches%2Caps%2C214&amp;sr=8-6\" target=\"_blank\"><span class=\"a-size-base-plus a-color-base a-text-normal\">Analog Blue Dial Men's Watch - FS5237</span> </a>,\n",
       " <a class=\"a-link-normal s-underline-text s-underline-link-text s-link-style a-text-normal\" href=\"/Fossil-Chronograph-Silver-Dial-Watch-CH2882/dp/B00DUCIK7U/ref=sr_1_7?crid=F9V2HJV8ICHJ&amp;keywords=fossil+watches+for+men&amp;qid=1672385005&amp;sprefix=fossil+watches%2Caps%2C214&amp;sr=8-7\" target=\"_blank\"><span class=\"a-size-base-plus a-color-base a-text-normal\">Chronograph White Dial Men's Watch-CH2882</span> </a>,\n",
       " <a class=\"a-link-normal s-underline-text s-underline-link-text s-link-style a-text-normal\" href=\"/Fossil-Smartwatch-silicone-Bluetooth-calling/dp/B08FX4382S/ref=sr_1_8?crid=F9V2HJV8ICHJ&amp;keywords=fossil+watches+for+men&amp;qid=1672385005&amp;sprefix=fossil+watches%2Caps%2C214&amp;sr=8-8\" target=\"_blank\"><span class=\"a-size-base-plus a-color-base a-text-normal\">Gen 5E Smartwatch with AMOLED Screen, Wear OS by Google, Built-in Speaker for Phone Calls, Google Assistant, SpO2, GPS, NFC, Wellness Features and Smartphone Notifications</span> </a>,\n",
       " <a class=\"a-link-normal s-underline-text s-underline-link-text s-link-style a-text-normal\" href=\"/Fossil-Fenmore-Multifunction-Black-BQ2364/dp/B07R4P572S/ref=sr_1_9?crid=F9V2HJV8ICHJ&amp;keywords=fossil+watches+for+men&amp;qid=1672385005&amp;sprefix=fossil+watches%2Caps%2C214&amp;sr=8-9\" target=\"_blank\"><span class=\"a-size-base-plus a-color-base a-text-normal\">Chronograph Men's Watch (Black Dial Black Colored Strap)\"</span> </a>,\n",
       " <a class=\"a-link-normal s-underline-text s-underline-link-text s-link-style a-text-normal\" href=\"/Fossil-Analog-Black-Dial-Watch-FS5652/dp/B07XYY9X9V/ref=sr_1_10?crid=F9V2HJV8ICHJ&amp;keywords=fossil+watches+for+men&amp;qid=1672385005&amp;sprefix=fossil+watches%2Caps%2C214&amp;sr=8-10\" target=\"_blank\"><span class=\"a-size-base-plus a-color-base a-text-normal\">Analog Black Dial Men's Watch-FS5652</span> </a>,\n",
       " <a class=\"a-link-normal s-underline-text s-underline-link-text s-link-style a-text-normal\" href=\"/Fossil-Decker-Chronograph-Black-Watch-CH2885/dp/B00EVZ83J0/ref=sr_1_11?crid=F9V2HJV8ICHJ&amp;keywords=fossil+watches+for+men&amp;qid=1672385005&amp;sprefix=fossil+watches%2Caps%2C214&amp;sr=8-11\" target=\"_blank\"><span class=\"a-size-base-plus a-color-base a-text-normal\">Chronograph Black Men Watch CH2885</span> </a>,\n",
       " <a class=\"a-link-normal s-underline-text s-underline-link-text s-link-style a-text-normal\" href=\"/Fossil-Bannon-Analog-Black-Watch-BQ2494/dp/B09V33RJ2Q/ref=sr_1_12?crid=F9V2HJV8ICHJ&amp;keywords=fossil+watches+for+men&amp;qid=1672385005&amp;sprefix=fossil+watches%2Caps%2C214&amp;sr=8-12\" target=\"_blank\"><span class=\"a-size-base-plus a-color-base a-text-normal\">Bannon Analog Black Dial Men's Watch-BQ2494</span> </a>,\n",
       " <a class=\"a-link-normal s-underline-text s-underline-link-text s-link-style a-text-normal\" href=\"/Fossil-Analog-Blue-Dial-Watch-FS5668/dp/B086NQ3M5Y/ref=sr_1_13?crid=F9V2HJV8ICHJ&amp;keywords=fossil+watches+for+men&amp;qid=1672385005&amp;sprefix=fossil+watches%2Caps%2C214&amp;sr=8-13\" target=\"_blank\"><span class=\"a-size-base-plus a-color-base a-text-normal\">Analog Blue Dial Men's Watch-FS5668</span> </a>,\n",
       " <a class=\"a-link-normal s-underline-text s-underline-link-text s-link-style a-text-normal\" href=\"/Fossil-Everett-Analog-Grey-Watch-FS5799/dp/B08YWHJM87/ref=sr_1_14?crid=F9V2HJV8ICHJ&amp;keywords=fossil+watches+for+men&amp;qid=1672385005&amp;sprefix=fossil+watches%2Caps%2C214&amp;sr=8-14\" target=\"_blank\"><span class=\"a-size-base-plus a-color-base a-text-normal\">Everett Analog Grey Dial Men's Watch-FS5799</span> </a>,\n",
       " <a class=\"a-link-normal s-underline-text s-underline-link-text s-link-style a-text-normal\" href=\"/Fossil-Machine-Analog-Black-Watch-FS4656/dp/B00DH9NPBM/ref=sr_1_15?crid=F9V2HJV8ICHJ&amp;keywords=fossil+watches+for+men&amp;qid=1672385005&amp;sprefix=fossil+watches%2Caps%2C214&amp;sr=8-15\" target=\"_blank\"><span class=\"a-size-base-plus a-color-base a-text-normal\">Machine Analog Black Dial Men's Watch-FS4656</span> </a>,\n",
       " <a class=\"a-link-normal s-underline-text s-underline-link-text s-link-style a-text-normal\" href=\"/Fossil-Touchscreen-Smartwatch-Notifications-FTW4041/dp/B081HQLJYZ/ref=sr_1_16?crid=F9V2HJV8ICHJ&amp;keywords=fossil+watches+for+men&amp;qid=1672385005&amp;sprefix=fossil+watches%2Caps%2C214&amp;sr=8-16\" target=\"_blank\"><span class=\"a-size-base-plus a-color-base a-text-normal\">Gen 5 (46mm, Black) Garrett Silicone Touchscreen Men's Smartwatch with Speaker, Heart Rate, GPS, Music Storage and Smartphone Notifications Digital Dial Watch-FTW4041</span> </a>,\n",
       " <a class=\"a-link-normal s-underline-text s-underline-link-text s-link-style a-text-normal\" href=\"/Fossil-Minimalist-Analog-Grey-Watch/dp/B07CGN1LTF/ref=sxin_24_recs_zoco_stores_brand_identity_bs?content-id=amzn1.sym.68d71b57-9e08-492b-abe5-e68b3fc3dbcf%3Aamzn1.sym.68d71b57-9e08-492b-abe5-e68b3fc3dbcf&amp;crid=F9V2HJV8ICHJ&amp;cv_ct_cx=fossil+watches+for+men&amp;keywords=fossil+watches+for+men&amp;pd_rd_i=B07CGN1LTF&amp;pd_rd_r=1fca4999-f2e5-4146-8bc0-08c43702da41&amp;pd_rd_w=lUVMm&amp;pd_rd_wg=6pH0H&amp;pf_rd_p=68d71b57-9e08-492b-abe5-e68b3fc3dbcf&amp;pf_rd_r=9FS7AFGFTJEJJB0FAD45&amp;qid=1672385005&amp;sprefix=fossil+watches%2Caps%2C214&amp;sr=1-1-0723f66e-ff99-43ba-a202-1be1089a8603\" target=\"_blank\"><span class=\"a-size-base-plus a-color-base a-text-normal\">The Minimalist 3h Analog Grey Dial Men's Watch - FS5459</span> </a>,\n",
       " <a class=\"a-link-normal s-underline-text s-underline-link-text s-link-style a-text-normal\" href=\"/Fossil-Analog-Blue-Dial-Watch-FS5210/dp/B01EUVE61I/ref=sxin_24_recs_zoco_stores_brand_identity_bs?content-id=amzn1.sym.68d71b57-9e08-492b-abe5-e68b3fc3dbcf%3Aamzn1.sym.68d71b57-9e08-492b-abe5-e68b3fc3dbcf&amp;crid=F9V2HJV8ICHJ&amp;cv_ct_cx=fossil+watches+for+men&amp;keywords=fossil+watches+for+men&amp;pd_rd_i=B01EUVE61I&amp;pd_rd_r=1fca4999-f2e5-4146-8bc0-08c43702da41&amp;pd_rd_w=lUVMm&amp;pd_rd_wg=6pH0H&amp;pf_rd_p=68d71b57-9e08-492b-abe5-e68b3fc3dbcf&amp;pf_rd_r=9FS7AFGFTJEJJB0FAD45&amp;qid=1672385005&amp;sprefix=fossil+watches%2Caps%2C214&amp;sr=1-2-0723f66e-ff99-43ba-a202-1be1089a8603\" target=\"_blank\"><span class=\"a-size-base-plus a-color-base a-text-normal\">Grant Analog Blue Dial Men's Watch-FS5210</span> </a>,\n",
       " <a class=\"a-link-normal s-underline-text s-underline-link-text s-link-style a-text-normal\" href=\"/Fossil-Analog-Blue-Dial-Watch-BQ2311/dp/B07DMQ2SWB/ref=sxin_24_recs_zoco_stores_brand_identity_bs?content-id=amzn1.sym.68d71b57-9e08-492b-abe5-e68b3fc3dbcf%3Aamzn1.sym.68d71b57-9e08-492b-abe5-e68b3fc3dbcf&amp;crid=F9V2HJV8ICHJ&amp;cv_ct_cx=fossil+watches+for+men&amp;keywords=fossil+watches+for+men&amp;pd_rd_i=B07DMQ2SWB&amp;pd_rd_r=1fca4999-f2e5-4146-8bc0-08c43702da41&amp;pd_rd_w=lUVMm&amp;pd_rd_wg=6pH0H&amp;pf_rd_p=68d71b57-9e08-492b-abe5-e68b3fc3dbcf&amp;pf_rd_r=9FS7AFGFTJEJJB0FAD45&amp;qid=1672385005&amp;sprefix=fossil+watches%2Caps%2C214&amp;sr=1-3-0723f66e-ff99-43ba-a202-1be1089a8603\" target=\"_blank\"><span class=\"a-size-base-plus a-color-base a-text-normal\">Analog Blue Dial Men's Watch-BQ2311</span> </a>,\n",
       " <a class=\"a-link-normal s-underline-text s-underline-link-text s-link-style a-text-normal\" href=\"/Fossil-Everett-Analog-Black-Watch-FS5821/dp/B08QV39LVS/ref=sxin_24_recs_zoco_stores_brand_identity_bs?content-id=amzn1.sym.68d71b57-9e08-492b-abe5-e68b3fc3dbcf%3Aamzn1.sym.68d71b57-9e08-492b-abe5-e68b3fc3dbcf&amp;crid=F9V2HJV8ICHJ&amp;cv_ct_cx=fossil+watches+for+men&amp;keywords=fossil+watches+for+men&amp;pd_rd_i=B08QV39LVS&amp;pd_rd_r=1fca4999-f2e5-4146-8bc0-08c43702da41&amp;pd_rd_w=lUVMm&amp;pd_rd_wg=6pH0H&amp;pf_rd_p=68d71b57-9e08-492b-abe5-e68b3fc3dbcf&amp;pf_rd_r=9FS7AFGFTJEJJB0FAD45&amp;qid=1672385005&amp;sprefix=fossil+watches%2Caps%2C214&amp;sr=1-4-0723f66e-ff99-43ba-a202-1be1089a8603\" target=\"_blank\"><span class=\"a-size-base-plus a-color-base a-text-normal\">Everett Analog Black Dial Men's Watch-FS5821</span> </a>,\n",
       " <a class=\"a-link-normal s-underline-text s-underline-link-text s-link-style a-text-normal\" href=\"/Fossil-Neutra-Analog-White-Watch-ME3196/dp/B08QTVLYFT/ref=sxin_24_recs_zoco_stores_brand_identity_bs?content-id=amzn1.sym.68d71b57-9e08-492b-abe5-e68b3fc3dbcf%3Aamzn1.sym.68d71b57-9e08-492b-abe5-e68b3fc3dbcf&amp;crid=F9V2HJV8ICHJ&amp;cv_ct_cx=fossil+watches+for+men&amp;keywords=fossil+watches+for+men&amp;pd_rd_i=B08QTVLYFT&amp;pd_rd_r=1fca4999-f2e5-4146-8bc0-08c43702da41&amp;pd_rd_w=lUVMm&amp;pd_rd_wg=6pH0H&amp;pf_rd_p=68d71b57-9e08-492b-abe5-e68b3fc3dbcf&amp;pf_rd_r=9FS7AFGFTJEJJB0FAD45&amp;qid=1672385005&amp;sprefix=fossil+watches%2Caps%2C214&amp;sr=1-5-0723f66e-ff99-43ba-a202-1be1089a8603\" target=\"_blank\"><span class=\"a-size-base-plus a-color-base a-text-normal\">Neutra Analog White Dial Men's Watch-ME3196</span> </a>,\n",
       " <a class=\"a-link-normal s-underline-text s-underline-link-text s-link-style a-text-normal\" href=\"/Fossil-Everett-Analog-Blue-Watch-FS5822/dp/B08QTW81S9/ref=sxin_24_recs_zoco_stores_brand_identity_bs?content-id=amzn1.sym.68d71b57-9e08-492b-abe5-e68b3fc3dbcf%3Aamzn1.sym.68d71b57-9e08-492b-abe5-e68b3fc3dbcf&amp;crid=F9V2HJV8ICHJ&amp;cv_ct_cx=fossil+watches+for+men&amp;keywords=fossil+watches+for+men&amp;pd_rd_i=B08QTW81S9&amp;pd_rd_r=1fca4999-f2e5-4146-8bc0-08c43702da41&amp;pd_rd_w=lUVMm&amp;pd_rd_wg=6pH0H&amp;pf_rd_p=68d71b57-9e08-492b-abe5-e68b3fc3dbcf&amp;pf_rd_r=9FS7AFGFTJEJJB0FAD45&amp;qid=1672385005&amp;sprefix=fossil+watches%2Caps%2C214&amp;sr=1-6-0723f66e-ff99-43ba-a202-1be1089a8603\" target=\"_blank\"><span class=\"a-size-base-plus a-color-base a-text-normal\">Everett Analog Blue Dial Men's Watch-FS5822</span> </a>,\n",
       " <a class=\"a-link-normal s-underline-text s-underline-link-text s-link-style a-text-normal\" href=\"/Fossil-Smartwatch-Snapdragon-Smartphone-Notifications/dp/B09DGS966L/ref=sr_1_17?crid=F9V2HJV8ICHJ&amp;keywords=fossil+watches+for+men&amp;qid=1672385005&amp;sprefix=fossil+watches%2Caps%2C214&amp;sr=8-17\" target=\"_blank\"><span class=\"a-size-base-plus a-color-base a-text-normal\">Gen 6 Smartwatch with AMOLED Screen, Snapdragon 4100+ Wear Platform, Wear OS by Google, Google Assistant, SpO2, Wellness Features and Smartphone Notifications</span> </a>,\n",
       " <a class=\"a-link-normal s-underline-text s-underline-link-text s-link-style a-text-normal\" href=\"/Fossil-Bronson-Analog-Cream-Watch-FS5919/dp/B0B25795NS/ref=sr_1_18?crid=F9V2HJV8ICHJ&amp;keywords=fossil+watches+for+men&amp;qid=1672385005&amp;sprefix=fossil+watches%2Caps%2C214&amp;sr=8-18\" target=\"_blank\"><span class=\"a-size-base-plus a-color-base a-text-normal\">Bronson Analog Cream Dial Men's Watch-FS5919</span> </a>,\n",
       " <a class=\"a-link-normal s-underline-text s-underline-link-text s-link-style a-text-normal\" href=\"/Fossil-Multifunction-Black-Stainless-BQ2532/dp/B08HBTPK4L/ref=sr_1_19?crid=F9V2HJV8ICHJ&amp;keywords=fossil+watches+for+men&amp;qid=1672385005&amp;sprefix=fossil+watches%2Caps%2C214&amp;sr=8-19\" target=\"_blank\"><span class=\"a-size-base-plus a-color-base a-text-normal\">Brox Analog Black Dial Men's Watch-BQ2532</span> </a>,\n",
       " <a class=\"a-link-normal s-underline-text s-underline-link-text s-link-style a-text-normal\" href=\"/Fossil-Analog-Blue-Dial-Watch-FS5210/dp/B01EUVE61I/ref=sr_1_20?crid=F9V2HJV8ICHJ&amp;keywords=fossil+watches+for+men&amp;qid=1672385005&amp;sprefix=fossil+watches%2Caps%2C214&amp;sr=8-20\" target=\"_blank\"><span class=\"a-size-base-plus a-color-base a-text-normal\">Grant Analog Blue Dial Men's Watch-FS5210</span> </a>,\n",
       " <a class=\"a-link-normal s-underline-text s-underline-link-text s-link-style a-text-normal\" href=\"/sspa/click?ie=UTF8&amp;spc=MToxMzExNDQ5MTI3MzQyNDIzOjE2NzIzODUwMDU6c3BfbXRmOjIwMTAzNDU3NTA4NDk4OjowOjo&amp;url=%2FFossil-Everett-Analog-Green-Watch-FS5964%2Fdp%2FB0BFXP6K7C%2Fref%3Dsr_1_21_sspa%3Fcrid%3DF9V2HJV8ICHJ%26keywords%3Dfossil%2Bwatches%2Bfor%2Bmen%26qid%3D1672385005%26sprefix%3Dfossil%2Bwatches%252Caps%252C214%26sr%3D8-21-spons%26sp_csd%3Dd2lkZ2V0TmFtZT1zcF9tdGY%26psc%3D1\" target=\"_blank\"><span class=\"a-size-base-plus a-color-base a-text-normal\">Everett Analog Green Dial Men's Watch-FS5964</span> </a>,\n",
       " <a class=\"a-link-normal s-underline-text s-underline-link-text s-link-style a-text-normal\" href=\"/sspa/click?ie=UTF8&amp;spc=MToxMzExNDQ5MTI3MzQyNDIzOjE2NzIzODUwMDU6c3BfbXRmOjIwMDkxNzgyODUwMTk4OjowOjo&amp;url=%2FFossil-Minimalist-Analog-Gray-Watch-FS5944%2Fdp%2FB0B4H5FWYM%2Fref%3Dsr_1_22_sspa%3Fcrid%3DF9V2HJV8ICHJ%26keywords%3Dfossil%2Bwatches%2Bfor%2Bmen%26qid%3D1672385005%26sprefix%3Dfossil%2Bwatches%252Caps%252C214%26sr%3D8-22-spons%26sp_csd%3Dd2lkZ2V0TmFtZT1zcF9tdGY%26psc%3D1\" target=\"_blank\"><span class=\"a-size-base-plus a-color-base a-text-normal\">Minimalist Analog Gray Dial Men's Watch-FS5944</span> </a>,\n",
       " <a class=\"a-link-normal s-underline-text s-underline-link-text s-link-style a-text-normal\" href=\"/sspa/click?ie=UTF8&amp;spc=MToxMzExNDQ5MTI3MzQyNDIzOjE2NzIzODUwMDU6c3BfbXRmOjIwMTAzNDU3NTA3MTk4OjowOjo&amp;url=%2FFossil-Autocross-Analog-Blue-Watch-BQ2552%2Fdp%2FB09B45CD1Q%2Fref%3Dsr_1_23_sspa%3Fcrid%3DF9V2HJV8ICHJ%26keywords%3Dfossil%2Bwatches%2Bfor%2Bmen%26qid%3D1672385005%26sprefix%3Dfossil%2Bwatches%252Caps%252C214%26sr%3D8-23-spons%26sp_csd%3Dd2lkZ2V0TmFtZT1zcF9tdGY%26psc%3D1\" target=\"_blank\"><span class=\"a-size-base-plus a-color-base a-text-normal\">Autocross Analog Blue Dial Men's Watch-BQ2552</span> </a>,\n",
       " <a class=\"a-link-normal s-underline-text s-underline-link-text s-link-style a-text-normal\" href=\"/sspa/click?ie=UTF8&amp;spc=MToxMzExNDQ5MTI3MzQyNDIzOjE2NzIzODUwMDU6c3BfbXRmOjIwMTAzNDU3NTA4Mjk4OjowOjo&amp;url=%2FFossil-Blue-Analog-Green-Watch-FS5961%2Fdp%2FB0BFXNB8BG%2Fref%3Dsr_1_24_sspa%3Fcrid%3DF9V2HJV8ICHJ%26keywords%3Dfossil%2Bwatches%2Bfor%2Bmen%26qid%3D1672385005%26sprefix%3Dfossil%2Bwatches%252Caps%252C214%26sr%3D8-24-spons%26sp_csd%3Dd2lkZ2V0TmFtZT1zcF9tdGY%26psc%3D1\" target=\"_blank\"><span class=\"a-size-base-plus a-color-base a-text-normal\">Blue Analog Green Dial Men's Watch-FS5961</span> </a>,\n",
       " <a class=\"a-link-normal s-underline-text s-underline-link-text s-link-style a-text-normal\" href=\"/Fossil-Analog-Blue-Dial-Watch-BQ2311/dp/B07DMQ2SWB/ref=sr_1_25?crid=F9V2HJV8ICHJ&amp;keywords=fossil+watches+for+men&amp;qid=1672385005&amp;sprefix=fossil+watches%2Caps%2C214&amp;sr=8-25\" target=\"_blank\"><span class=\"a-size-base-plus a-color-base a-text-normal\">Analog Blue Dial Men's Watch-BQ2311</span> </a>,\n",
       " <a class=\"a-link-normal s-underline-text s-underline-link-text s-link-style a-text-normal\" href=\"/Fossil-Analog-White-Dial-Watch-FS4795/dp/B00AG37H8Y/ref=sr_1_26?crid=F9V2HJV8ICHJ&amp;keywords=fossil+watches+for+men&amp;qid=1672385005&amp;sprefix=fossil+watches%2Caps%2C214&amp;sr=8-26\" target=\"_blank\"><span class=\"a-size-base-plus a-color-base a-text-normal\">Analog White Dial Men's Watch-FS4795</span> </a>,\n",
       " <a class=\"a-link-normal s-underline-text s-underline-link-text s-link-style a-text-normal\" href=\"/Fossil-Rhett-Chronograph-Leather-BQ2163/dp/B07VRPS5KX/ref=sr_1_27?crid=F9V2HJV8ICHJ&amp;keywords=fossil+watches+for+men&amp;qid=1672385005&amp;sprefix=fossil+watches%2Caps%2C214&amp;sr=8-27\" target=\"_blank\"><span class=\"a-size-base-plus a-color-base a-text-normal\">Rhett Analog Blue Dial Men's Watch-BQ2163</span> </a>,\n",
       " <a class=\"a-link-normal s-underline-text s-underline-link-text s-link-style a-text-normal\" href=\"/Fossil-FB-01-Analog-Black-Watch-FS5836/dp/B08YX37N72/ref=sr_1_28?crid=F9V2HJV8ICHJ&amp;keywords=fossil+watches+for+men&amp;qid=1672385005&amp;sprefix=fossil+watches%2Caps%2C214&amp;sr=8-28\" target=\"_blank\"><span class=\"a-size-base-plus a-color-base a-text-normal\">FB-01 Analog Black Dial Men's Watch-FS5836</span> </a>,\n",
       " <a class=\"a-link-normal s-underline-text s-underline-link-text s-link-style a-text-normal\" href=\"/Fossil-Inscription-Analog-Black-Watch-FS5934/dp/B0B4H5P684/ref=sxin_36_sbv_search_btf?content-id=amzn1.sym.dd2aa9b8-d653-4b22-af5d-81cb48e44028%3Aamzn1.sym.dd2aa9b8-d653-4b22-af5d-81cb48e44028&amp;crid=F9V2HJV8ICHJ&amp;cv_ct_cx=fossil+watches+for+men&amp;keywords=fossil+watches+for+men&amp;pd_rd_i=B0B4H5P684&amp;pd_rd_r=1fca4999-f2e5-4146-8bc0-08c43702da41&amp;pd_rd_w=Hi7JX&amp;pd_rd_wg=6pH0H&amp;pf_rd_p=dd2aa9b8-d653-4b22-af5d-81cb48e44028&amp;pf_rd_r=9FS7AFGFTJEJJB0FAD45&amp;qid=1672385005&amp;sprefix=fossil+watches%2Caps%2C214&amp;sr=1-1-9131241a-a358-4619-a7b8-0f5a65d91d81\" target=\"_blank\"><span class=\"a-size-base-plus a-color-base a-text-normal\">Inscription Analog Black Dial Men's Watch-FS5934</span> </a>,\n",
       " <a class=\"a-link-normal s-underline-text s-underline-link-text s-link-style a-text-normal\" href=\"/Fossil-Townsman-Analog-Blue-Watch-ME3200/dp/B097RPJ6N9/ref=sr_1_29?crid=F9V2HJV8ICHJ&amp;keywords=fossil+watches+for+men&amp;qid=1672385005&amp;sprefix=fossil+watches%2Caps%2C214&amp;sr=8-29\" target=\"_blank\"><span class=\"a-size-base-plus a-color-base a-text-normal\">Townsman Analog Blue Dial Men's Watch-ME3200</span> </a>,\n",
       " <a class=\"a-link-normal s-underline-text s-underline-link-text s-link-style a-text-normal\" href=\"/Fossil-Fenmore-Midsize-Multifunction-Leather/dp/B07MN2G6XK/ref=sr_1_30?crid=F9V2HJV8ICHJ&amp;keywords=fossil+watches+for+men&amp;qid=1672385005&amp;sprefix=fossil+watches%2Caps%2C214&amp;sr=8-30\" target=\"_blank\"><span class=\"a-size-base-plus a-color-base a-text-normal\">Fenmore Midsize Analog Blue Dial Men's Watch-BQ2412</span> </a>,\n",
       " <a class=\"a-link-normal s-underline-text s-underline-link-text s-link-style a-text-normal\" href=\"/Fossil-Grant-Chronograph-Black-Watch-FS4813/dp/B00AFTTQ8I/ref=sr_1_31?crid=F9V2HJV8ICHJ&amp;keywords=fossil+watches+for+men&amp;qid=1672385005&amp;sprefix=fossil+watches%2Caps%2C214&amp;sr=8-31\" target=\"_blank\"><span class=\"a-size-base-plus a-color-base a-text-normal\">Grant Chronograph Black Dial Men's Watch-FS4813</span> </a>,\n",
       " <a class=\"a-link-normal s-underline-text s-underline-link-text s-link-style a-text-normal\" href=\"/Fossil-Autocross-Analog-Black-Watch-BQ2551/dp/B09B44V1F9/ref=sr_1_32?crid=F9V2HJV8ICHJ&amp;keywords=fossil+watches+for+men&amp;qid=1672385005&amp;sprefix=fossil+watches%2Caps%2C214&amp;sr=8-32\" target=\"_blank\"><span class=\"a-size-base-plus a-color-base a-text-normal\">Autocross Analog Black Dial Men's Watch-BQ2551</span> </a>,\n",
       " <a class=\"a-link-normal s-underline-text s-underline-link-text s-link-style a-text-normal\" href=\"/Fossil-Analog-Black-Dial-Watch-FS5308/dp/B06VV5QB6Q/ref=sr_1_33?crid=F9V2HJV8ICHJ&amp;keywords=fossil+watches+for+men&amp;qid=1672385005&amp;sprefix=fossil+watches%2Caps%2C214&amp;sr=8-33\" target=\"_blank\"><span class=\"a-size-base-plus a-color-base a-text-normal\">Analog Black Dial Men's Watch-FS5308</span> </a>,\n",
       " <a class=\"a-link-normal s-underline-text s-underline-link-text s-link-style a-text-normal\" href=\"/Fossil-Fb-01-Analog-Multi-Colour-Watch-ME3190/dp/B08KT3ZHB2/ref=sr_1_34?crid=F9V2HJV8ICHJ&amp;keywords=fossil+watches+for+men&amp;qid=1672385005&amp;sprefix=fossil+watches%2Caps%2C214&amp;sr=8-34\" target=\"_blank\"><span class=\"a-size-base-plus a-color-base a-text-normal\">FB-01 Analog Multi-Colour Dial Men's Watch-ME3190</span> </a>,\n",
       " <a class=\"a-link-normal s-underline-text s-underline-link-text s-link-style a-text-normal\" href=\"/Fossil-Bannon-Multifunction-Stainless-BQ2492/dp/B0818BCCJ3/ref=sr_1_35?crid=F9V2HJV8ICHJ&amp;keywords=fossil+watches+for+men&amp;qid=1672385005&amp;sprefix=fossil+watches%2Caps%2C214&amp;sr=8-35\" target=\"_blank\"><span class=\"a-size-base-plus a-color-base a-text-normal\">Bannon Analog Green Dial Men's Watch-BQ2492</span> </a>,\n",
       " <a class=\"a-link-normal s-underline-text s-underline-link-text s-link-style a-text-normal\" href=\"/Fossil-Nate-Chronograph-Black-Watch-JR1401/dp/B008AXYWHQ/ref=sr_1_36?crid=F9V2HJV8ICHJ&amp;keywords=fossil+watches+for+men&amp;qid=1672385005&amp;sprefix=fossil+watches%2Caps%2C214&amp;sr=8-36\" target=\"_blank\"><span class=\"a-size-base-plus a-color-base a-text-normal\">Nate Chronograph Black Dial Men's Watch-JR1401</span> </a>,\n",
       " <a class=\"a-link-normal s-underline-text s-underline-link-text s-link-style a-text-normal\" href=\"/Fossil-Flynn-Analog-Black-Watch-BQ2383/dp/B08QW9VDRN/ref=sr_1_37?crid=F9V2HJV8ICHJ&amp;keywords=fossil+watches+for+men&amp;qid=1672385005&amp;sprefix=fossil+watches%2Caps%2C214&amp;sr=8-37\" target=\"_blank\"><span class=\"a-size-base-plus a-color-base a-text-normal\">Flynn Analog Black Dial Men's Watch-BQ2383</span> </a>,\n",
       " <a class=\"a-link-normal s-underline-text s-underline-link-text s-link-style a-text-normal\" href=\"/Fossil-Multifunction-Leather-Chronograph-WFIF-FS5402I/dp/B07D1B8WX4/ref=sr_1_38?crid=F9V2HJV8ICHJ&amp;keywords=fossil+watches+for+men&amp;qid=1672385005&amp;sprefix=fossil+watches%2Caps%2C214&amp;sr=8-38\" target=\"_blank\"><span class=\"a-size-base-plus a-color-base a-text-normal\">Fossil Chronograph Men's Watch (White Dial Brown Colored Strap)\"</span> </a>,\n",
       " <a class=\"a-link-normal s-underline-text s-underline-link-text s-link-style a-text-normal\" href=\"/Fossil-Analog-Black-Unisex-Watch/dp/B005LBZ6G6/ref=sr_1_39?crid=F9V2HJV8ICHJ&amp;keywords=fossil+watches+for+men&amp;qid=1672385005&amp;sprefix=fossil+watches%2Caps%2C214&amp;sr=8-39\" target=\"_blank\"><span class=\"a-size-base-plus a-color-base a-text-normal\">Machine Chronograph Brown Dial Men's Watch - FS4682</span> </a>,\n",
       " <a class=\"a-link-normal s-underline-text s-underline-link-text s-link-style a-text-normal\" href=\"/Fossil-Machine-Chronograph-Black-Watch-FS4682/dp/B00AMWDP5S/ref=sr_1_40?crid=F9V2HJV8ICHJ&amp;keywords=fossil+watches+for+men&amp;qid=1672385005&amp;sprefix=fossil+watches%2Caps%2C214&amp;sr=8-40\" target=\"_blank\"><span class=\"a-size-base-plus a-color-base a-text-normal\">Machine Chronograph Black Dial Men's Watch-FS4682</span> </a>,\n",
       " <a class=\"a-link-normal s-underline-text s-underline-link-text s-link-style a-text-normal\" href=\"/Fossil-Analog-Black-Dial-Watch-FS5305/dp/B06VVD9TLZ/ref=sr_1_41?crid=F9V2HJV8ICHJ&amp;keywords=fossil+watches+for+men&amp;qid=1672385005&amp;sprefix=fossil+watches%2Caps%2C214&amp;sr=8-41\" target=\"_blank\"><span class=\"a-size-base-plus a-color-base a-text-normal\">Analog Black Dial Men's Watch-FS5305</span> </a>,\n",
       " <a class=\"a-link-normal s-underline-text s-underline-link-text s-link-style a-text-normal\" href=\"/Fossil-Neutra-Minimalist-Analog-Watch-FS5908/dp/B09NC353DJ/ref=sr_1_42?crid=F9V2HJV8ICHJ&amp;keywords=fossil+watches+for+men&amp;qid=1672385005&amp;sprefix=fossil+watches%2Caps%2C214&amp;sr=8-42\" target=\"_blank\"><span class=\"a-size-base-plus a-color-base a-text-normal\">Neutra Minimalist Analog Green Dial Men's Watch-FS5908</span> </a>,\n",
       " <a class=\"a-link-normal s-underline-text s-underline-link-text s-link-style a-text-normal\" href=\"/Fossil-Analog-Black-Dial-Watch-FS5384/dp/B075QFF5BV/ref=sr_1_43?crid=F9V2HJV8ICHJ&amp;keywords=fossil+watches+for+men&amp;qid=1672385005&amp;sprefix=fossil+watches%2Caps%2C214&amp;sr=8-43\" target=\"_blank\"><span class=\"a-size-base-plus a-color-base a-text-normal\">Analog Black Dial Men's Watch-FS5384</span> </a>,\n",
       " <a class=\"a-link-normal s-underline-text s-underline-link-text s-link-style a-text-normal\" href=\"/Fossil-Touchscreen-Smartwatch-Notifications-FTW4025/dp/B07SRW3MCM/ref=sr_1_44?crid=F9V2HJV8ICHJ&amp;keywords=fossil+watches+for+men&amp;qid=1672385005&amp;sprefix=fossil+watches%2Caps%2C214&amp;sr=8-44\" target=\"_blank\"><span class=\"a-size-base-plus a-color-base a-text-normal\">Gen 5 Touchscreen Men's Smartwatch with Speaker, Heart Rate, GPS, Music Storage and Smartphone Notifications</span> </a>,\n",
       " <a class=\"a-link-normal s-underline-text s-underline-link-text s-link-style a-text-normal\" href=\"/Fossil-Collider-Hybrid-Smartwatch-Black/dp/B07SY4V5QQ/ref=sr_1_45?crid=F9V2HJV8ICHJ&amp;keywords=fossil+watches+for+men&amp;qid=1672385005&amp;sprefix=fossil+watches%2Caps%2C214&amp;sr=8-45\" target=\"_blank\"><span class=\"a-size-base-plus a-color-base a-text-normal\">Collider Hybrid Hr Analog Black Dial Men's Watch-FTW7008</span> </a>,\n",
       " <a class=\"a-link-normal s-underline-text s-underline-link-text s-link-style a-text-normal\" href=\"/Fossil-Analog-Black-Dial-Watch-FS5437/dp/B079D9VSZD/ref=sr_1_46?crid=F9V2HJV8ICHJ&amp;keywords=fossil+watches+for+men&amp;qid=1672385005&amp;sprefix=fossil+watches%2Caps%2C214&amp;sr=8-46\" target=\"_blank\"><span class=\"a-size-base-plus a-color-base a-text-normal\">Analog Black Dial Men's Watch - FS5437</span> </a>,\n",
       " <a class=\"a-link-normal s-underline-text s-underline-link-text s-link-style a-text-normal\" href=\"/Fossil-Analog-Black-Dial-Watch-ME3154/dp/B0769YW2KN/ref=sr_1_47?crid=F9V2HJV8ICHJ&amp;keywords=fossil+watches+for+men&amp;qid=1672385005&amp;sprefix=fossil+watches%2Caps%2C214&amp;sr=8-47\" target=\"_blank\"><span class=\"a-size-base-plus a-color-base a-text-normal\">Analog Black Dial Men's Watch - ME3154</span> </a>,\n",
       " <a class=\"a-link-normal s-underline-text s-underline-link-text s-link-style a-text-normal\" href=\"/Fossil-Neutra-Analog-Grey-Watch-ME3161/dp/B07MFZ75HN/ref=sr_1_48?crid=F9V2HJV8ICHJ&amp;keywords=fossil+watches+for+men&amp;qid=1672385005&amp;sprefix=fossil+watches%2Caps%2C214&amp;sr=8-48\" target=\"_blank\"><span class=\"a-size-base-plus a-color-base a-text-normal\">Neutra Analog Grey Dial Men's Watch-ME3161</span> </a>,\n",
       " <a class=\"a-link-normal s-underline-text s-underline-link-text s-link-style a-text-normal\" href=\"/Fossil-Bronson-Analog-Blue-Watch-FS5916/dp/B09VKCSF96/ref=sr_1_49?crid=F9V2HJV8ICHJ&amp;keywords=fossil+watches+for+men&amp;qid=1672385005&amp;sprefix=fossil+watches%2Caps%2C214&amp;sr=8-49\" target=\"_blank\"><span class=\"a-size-base-plus a-color-base a-text-normal\">Stay Fashionable Watch</span> </a>,\n",
       " <a class=\"a-link-normal s-underline-text s-underline-link-text s-link-style a-text-normal\" href=\"/Fossil-Analog-Off-White-Dial-Watch-FS5402/dp/B078C9288W/ref=sr_1_50?crid=F9V2HJV8ICHJ&amp;keywords=fossil+watches+for+men&amp;qid=1672385005&amp;sprefix=fossil+watches%2Caps%2C214&amp;sr=8-50\" target=\"_blank\"><span class=\"a-size-base-plus a-color-base a-text-normal\">Analog Off-White Dial Men's Watch-FS5402</span> </a>,\n",
       " <a class=\"a-link-normal s-underline-text s-underline-link-text s-link-style a-text-normal\" href=\"/Fossil-Analog-Blue-Dial-Watch-FS4835/dp/B00E4NNCZO/ref=sr_1_51?crid=F9V2HJV8ICHJ&amp;keywords=fossil+watches+for+men&amp;qid=1672385005&amp;sprefix=fossil+watches%2Caps%2C214&amp;sr=8-51\" target=\"_blank\"><span class=\"a-size-base-plus a-color-base a-text-normal\">Analog Blue Dial Men's Watch-FS4835IE</span> </a>,\n",
       " <a class=\"a-link-normal s-underline-text s-underline-link-text s-link-style a-text-normal\" href=\"/Fossil-Bronson-Analog-Gray-Watch-FS5855/dp/B0975TDMW6/ref=sr_1_52?crid=F9V2HJV8ICHJ&amp;keywords=fossil+watches+for+men&amp;qid=1672385005&amp;sprefix=fossil+watches%2Caps%2C214&amp;sr=8-52\" target=\"_blank\"><span class=\"a-size-base-plus a-color-base a-text-normal\">Bronson Analog Gray Dial Men's Watch-FS5855</span> </a>,\n",
       " <a class=\"a-link-normal s-underline-text s-underline-link-text s-link-style a-text-normal\" href=\"/Fossil-Machine-Chronograph-Black-Watch-FS4487/dp/B004RR7Y6U/ref=sr_1_53?crid=F9V2HJV8ICHJ&amp;keywords=fossil+watches+for+men&amp;qid=1672385005&amp;sprefix=fossil+watches%2Caps%2C214&amp;sr=8-53\" target=\"_blank\"><span class=\"a-size-base-plus a-color-base a-text-normal\">Machine Chronograph Black Dial Men's Watch-FS4487</span> </a>,\n",
       " <a class=\"a-link-normal s-underline-text s-underline-link-text s-link-style a-text-normal\" href=\"/Fossil-FB-01-Analog-Black-Watch-FS5837/dp/B08YWZJSJG/ref=sr_1_54?crid=F9V2HJV8ICHJ&amp;keywords=fossil+watches+for+men&amp;qid=1672385005&amp;sprefix=fossil+watches%2Caps%2C214&amp;sr=8-54\" target=\"_blank\"><span class=\"a-size-base-plus a-color-base a-text-normal\">FB-01 Analog Black Dial Men's Watch-FS5837</span> </a>,\n",
       " <a class=\"a-link-normal s-underline-text s-underline-link-text s-link-style a-text-normal\" href=\"/Fossil-Bannon-Multifunction-Stainless-BQ2491/dp/B0838PYKXM/ref=sr_1_55?crid=F9V2HJV8ICHJ&amp;keywords=fossil+watches+for+men&amp;qid=1672385005&amp;sprefix=fossil+watches%2Caps%2C214&amp;sr=8-55\" target=\"_blank\"><span class=\"a-size-base-plus a-color-base a-text-normal\">Bannon Analog Gray Dial Men's Watch-BQ2491</span> </a>,\n",
       " <a class=\"a-link-normal s-underline-text s-underline-link-text s-link-style a-text-normal\" href=\"/Fossil-Minimalist-Analog-Black-Watch-FS5848/dp/B0975S676Q/ref=sr_1_56?crid=F9V2HJV8ICHJ&amp;keywords=fossil+watches+for+men&amp;qid=1672385005&amp;sprefix=fossil+watches%2Caps%2C214&amp;sr=8-56\" target=\"_blank\"><span class=\"a-size-base-plus a-color-base a-text-normal\">Analog Black Dial Men's Watch-FS5848</span> </a>,\n",
       " <a class=\"a-link-normal s-underline-text s-underline-link-text s-link-style a-text-normal\" href=\"/sspa/click?ie=UTF8&amp;spc=MToxMzExNDQ5MTI3MzQyNDIzOjE2NzIzODUwMDU6c3BfYnRmOjIwMTAzNDU3NTA4NTk4OjowOjo&amp;url=%2FFossil-Minimalist-Analog-Gray-Watch-FS5966SET%2Fdp%2FB0BFXTFKNL%2Fref%3Dsr_1_57_sspa%3Fcrid%3DF9V2HJV8ICHJ%26keywords%3Dfossil%2Bwatches%2Bfor%2Bmen%26qid%3D1672385005%26sprefix%3Dfossil%2Bwatches%252Caps%252C214%26sr%3D8-57-spons%26sp_csd%3Dd2lkZ2V0TmFtZT1zcF9idGY%26psc%3D1\" target=\"_blank\"><span class=\"a-size-base-plus a-color-base a-text-normal\">Men's Minimalist Stainless Steel Slim Casual Watch</span> </a>,\n",
       " <a class=\"a-link-normal s-underline-text s-underline-link-text s-link-style a-text-normal\" href=\"/sspa/click?ie=UTF8&amp;spc=MToxMzExNDQ5MTI3MzQyNDIzOjE2NzIzODUwMDU6c3BfYnRmOjIwMTAzNDU3NTA5MTk4OjowOjo&amp;url=%2FFossil-Townsman-Analog-Transparent-Watch-ME3234%2Fdp%2FB0BFYJTTX7%2Fref%3Dsr_1_58_sspa%3Fcrid%3DF9V2HJV8ICHJ%26keywords%3Dfossil%2Bwatches%2Bfor%2Bmen%26qid%3D1672385005%26sprefix%3Dfossil%2Bwatches%252Caps%252C214%26sr%3D8-58-spons%26sp_csd%3Dd2lkZ2V0TmFtZT1zcF9idGY%26psc%3D1\" target=\"_blank\"><span class=\"a-size-base-plus a-color-base a-text-normal\">Townsman Analog Transparent Dial Men's Watch-ME3234</span> </a>,\n",
       " <a class=\"a-link-normal s-underline-text s-underline-link-text s-link-style a-text-normal\" href=\"/sspa/click?ie=UTF8&amp;spc=MToxMzExNDQ5MTI3MzQyNDIzOjE2NzIzODUwMDU6c3BfYnRmOjIwMDkxNzgyODUwMjk4OjowOjo&amp;url=%2FFossil-Blue-Analog-Dial-Watch-FS5949%2Fdp%2FB0B4H664JN%2Fref%3Dsr_1_59_sspa%3Fcrid%3DF9V2HJV8ICHJ%26keywords%3Dfossil%2Bwatches%2Bfor%2Bmen%26qid%3D1672385005%26sprefix%3Dfossil%2Bwatches%252Caps%252C214%26sr%3D8-59-spons%26sp_csd%3Dd2lkZ2V0TmFtZT1zcF9idGY%26psc%3D1\" target=\"_blank\"><span class=\"a-size-base-plus a-color-base a-text-normal\">Blue Analog Dial Men's Watch-FS5949</span> </a>,\n",
       " <a class=\"a-link-normal s-underline-text s-underline-link-text s-link-style a-text-normal\" href=\"/sspa/click?ie=UTF8&amp;spc=MToxMzExNDQ5MTI3MzQyNDIzOjE2NzIzODUwMDU6c3BfYnRmOjIwMDgyMTM4MTA5MTk4OjowOjo&amp;url=%2FFossil-Analog-White-Dial-Watch-FS5562SET%2Fdp%2FB07VMN57ZP%2Fref%3Dsr_1_60_sspa%3Fcrid%3DF9V2HJV8ICHJ%26keywords%3Dfossil%2Bwatches%2Bfor%2Bmen%26qid%3D1672385005%26sprefix%3Dfossil%2Bwatches%252Caps%252C214%26sr%3D8-60-spons%26sp_csd%3Dd2lkZ2V0TmFtZT1zcF9idGY%26psc%3D1\" target=\"_blank\"><span class=\"a-size-base-plus a-color-base a-text-normal\">Analog White Dial Men's Watch-FS5562SET</span> </a>]"
      ]
     },
     "execution_count": 14,
     "metadata": {},
     "output_type": "execute_result"
    }
   ],
   "source": [
    "# contains all the anchor links in the webpage.\n",
    "\n",
    "links"
   ]
  },
  {
   "cell_type": "code",
   "execution_count": 15,
   "id": "ae30b3bf",
   "metadata": {},
   "outputs": [
    {
     "data": {
      "text/plain": [
       "<a class=\"a-link-normal s-underline-text s-underline-link-text s-link-style a-text-normal\" href=\"/sspa/click?ie=UTF8&amp;spc=MToxMzExNDQ5MTI3MzQyNDIzOjE2NzIzODUwMDU6c3BfYXRmOjIwMTAzNDU3NTA3MDk4OjowOjo&amp;url=%2FFossil-Autocross-Analog-Black-Watch-BQ2551%2Fdp%2FB09B44V1F9%2Fref%3Dsr_1_1_sspa%3Fcrid%3DF9V2HJV8ICHJ%26keywords%3Dfossil%2Bwatches%2Bfor%2Bmen%26qid%3D1672385005%26sprefix%3Dfossil%2Bwatches%252Caps%252C214%26sr%3D8-1-spons%26sp_csd%3Dd2lkZ2V0TmFtZT1zcF9hdGY%26psc%3D1\" target=\"_blank\"><span class=\"a-size-base-plus a-color-base a-text-normal\">Autocross Analog Black Dial Men's Watch-BQ2551</span> </a>"
      ]
     },
     "execution_count": 15,
     "metadata": {},
     "output_type": "execute_result"
    }
   ],
   "source": [
    "#first webpage anchor link information.\n",
    "\n",
    "links[0]"
   ]
  },
  {
   "cell_type": "code",
   "execution_count": 16,
   "id": "d70b8829",
   "metadata": {},
   "outputs": [],
   "source": [
    "# href - tag that contains the specific link for the first element, we extract that using get('href').\n",
    "\n",
    "first_link = links[0].get('href')"
   ]
  },
  {
   "cell_type": "code",
   "execution_count": 17,
   "id": "ee2afb13",
   "metadata": {},
   "outputs": [],
   "source": [
    "# append it with the actual website prefix\n",
    "\n",
    "product_list = \"https://amazon.in\" + first_link"
   ]
  },
  {
   "cell_type": "code",
   "execution_count": 18,
   "id": "8b31882f",
   "metadata": {},
   "outputs": [
    {
     "data": {
      "text/plain": [
       "'https://amazon.in/sspa/click?ie=UTF8&spc=MToxMzExNDQ5MTI3MzQyNDIzOjE2NzIzODUwMDU6c3BfYXRmOjIwMTAzNDU3NTA3MDk4OjowOjo&url=%2FFossil-Autocross-Analog-Black-Watch-BQ2551%2Fdp%2FB09B44V1F9%2Fref%3Dsr_1_1_sspa%3Fcrid%3DF9V2HJV8ICHJ%26keywords%3Dfossil%2Bwatches%2Bfor%2Bmen%26qid%3D1672385005%26sprefix%3Dfossil%2Bwatches%252Caps%252C214%26sr%3D8-1-spons%26sp_csd%3Dd2lkZ2V0TmFtZT1zcF9hdGY%26psc%3D1'"
      ]
     },
     "execution_count": 18,
     "metadata": {},
     "output_type": "execute_result"
    }
   ],
   "source": [
    "# This contains the full webpage link. Also, takes us to the first element/product from the initial webpage.\n",
    "\n",
    "product_list"
   ]
  },
  {
   "cell_type": "code",
   "execution_count": 19,
   "id": "6fb842f6",
   "metadata": {},
   "outputs": [],
   "source": [
    "# follow the same procedure to extract the specifics out of the product.\n",
    "\n",
    "response1 = requests.get(product_list, headers=HEADERS)"
   ]
  },
  {
   "cell_type": "code",
   "execution_count": 20,
   "id": "059f2317",
   "metadata": {},
   "outputs": [
    {
     "data": {
      "text/plain": [
       "200"
      ]
     },
     "execution_count": 20,
     "metadata": {},
     "output_type": "execute_result"
    }
   ],
   "source": [
    "response1.status_code"
   ]
  },
  {
   "cell_type": "code",
   "execution_count": 21,
   "id": "f591c1ef",
   "metadata": {},
   "outputs": [],
   "source": [
    "content1 = response1.content\n",
    "parser1 = BeautifulSoup(content1, 'html.parser')"
   ]
  },
  {
   "cell_type": "code",
   "execution_count": 23,
   "id": "4e328308",
   "metadata": {},
   "outputs": [
    {
     "data": {
      "text/plain": [
       "<span class=\"a-size-large product-title-word-break\" id=\"productTitle\">        Fossil Autocross Analog Black Dial Men's Watch-BQ2551       </span>"
      ]
     },
     "execution_count": 23,
     "metadata": {},
     "output_type": "execute_result"
    }
   ],
   "source": [
    "parser1.find(\"span\", attrs={\"id\":\"productTitle\"})"
   ]
  },
  {
   "cell_type": "code",
   "execution_count": 24,
   "id": "42feb000",
   "metadata": {},
   "outputs": [],
   "source": [
    "title = parser1.find(\"span\", attrs={\"id\":\"productTitle\"}).text"
   ]
  },
  {
   "cell_type": "code",
   "execution_count": 25,
   "id": "f544b158",
   "metadata": {},
   "outputs": [
    {
     "data": {
      "text/plain": [
       "\"        Fossil Autocross Analog Black Dial Men's Watch-BQ2551       \""
      ]
     },
     "execution_count": 25,
     "metadata": {},
     "output_type": "execute_result"
    }
   ],
   "source": [
    "title"
   ]
  },
  {
   "cell_type": "code",
   "execution_count": 26,
   "id": "eecbcc9c",
   "metadata": {},
   "outputs": [],
   "source": [
    "# strip() - python method that removes the empty spaces before and after the given string.\n",
    "\n",
    "clean_title = title.strip()"
   ]
  },
  {
   "cell_type": "code",
   "execution_count": 27,
   "id": "09beb2b3",
   "metadata": {},
   "outputs": [
    {
     "data": {
      "text/plain": [
       "\"Fossil Autocross Analog Black Dial Men's Watch-BQ2551\""
      ]
     },
     "execution_count": 27,
     "metadata": {},
     "output_type": "execute_result"
    }
   ],
   "source": [
    "clean_title"
   ]
  },
  {
   "cell_type": "code",
   "execution_count": 28,
   "id": "27b34172",
   "metadata": {},
   "outputs": [
    {
     "data": {
      "text/plain": [
       "<span class=\"a-price-whole\">8,995<span class=\"a-price-decimal\">.</span></span>"
      ]
     },
     "execution_count": 28,
     "metadata": {},
     "output_type": "execute_result"
    }
   ],
   "source": [
    "parser1.find(\"span\", attrs={'class': 'a-price-whole'})"
   ]
  },
  {
   "cell_type": "code",
   "execution_count": 29,
   "id": "fc1022e3",
   "metadata": {},
   "outputs": [],
   "source": [
    "deal_price = parser1.find(\"span\", attrs={'class': 'a-price-whole'}).text"
   ]
  },
  {
   "cell_type": "code",
   "execution_count": 30,
   "id": "59293a62",
   "metadata": {},
   "outputs": [
    {
     "data": {
      "text/plain": [
       "'8,995.'"
      ]
     },
     "execution_count": 30,
     "metadata": {},
     "output_type": "execute_result"
    }
   ],
   "source": [
    "deal_price"
   ]
  },
  {
   "cell_type": "code",
   "execution_count": 37,
   "id": "3968a3a8",
   "metadata": {},
   "outputs": [],
   "source": [
    "price_symbol = parser1.find(\"span\", attrs={'class': 'a-price-symbol'}).text"
   ]
  },
  {
   "cell_type": "code",
   "execution_count": 38,
   "id": "2470883d",
   "metadata": {},
   "outputs": [
    {
     "data": {
      "text/plain": [
       "'₹'"
      ]
     },
     "execution_count": 38,
     "metadata": {},
     "output_type": "execute_result"
    }
   ],
   "source": [
    "price_symbol"
   ]
  },
  {
   "cell_type": "code",
   "execution_count": 39,
   "id": "dc991a7c",
   "metadata": {},
   "outputs": [],
   "source": [
    "price = price_symbol + deal_price"
   ]
  },
  {
   "cell_type": "code",
   "execution_count": 40,
   "id": "b2c6223e",
   "metadata": {},
   "outputs": [
    {
     "data": {
      "text/plain": [
       "'₹8,995.'"
      ]
     },
     "execution_count": 40,
     "metadata": {},
     "output_type": "execute_result"
    }
   ],
   "source": [
    "price"
   ]
  },
  {
   "cell_type": "code",
   "execution_count": 41,
   "id": "f0750e60",
   "metadata": {},
   "outputs": [],
   "source": [
    "ratings = parser1.find(\"span\", attrs={'class': 'a-icon-alt'}).text"
   ]
  },
  {
   "cell_type": "code",
   "execution_count": 42,
   "id": "d71b18e5",
   "metadata": {},
   "outputs": [
    {
     "data": {
      "text/plain": [
       "'4.0 out of 5 stars'"
      ]
     },
     "execution_count": 42,
     "metadata": {},
     "output_type": "execute_result"
    }
   ],
   "source": [
    "ratings"
   ]
  },
  {
   "cell_type": "code",
   "execution_count": 43,
   "id": "d81c1a88",
   "metadata": {},
   "outputs": [],
   "source": [
    "# Extract the required rating string which will be in the first 3 characters & convert it to float for future use.\n",
    "\n",
    "count = 0\n",
    "new_ratings = ''\n",
    "for x in ratings:\n",
    "    count += 1\n",
    "    new_ratings += x\n",
    "    if count == 3:\n",
    "        break\n",
    "           \n",
    "    "
   ]
  },
  {
   "cell_type": "code",
   "execution_count": 44,
   "id": "9f49d611",
   "metadata": {},
   "outputs": [],
   "source": [
    "actual_rating = float(new_ratings)"
   ]
  },
  {
   "cell_type": "code",
   "execution_count": 45,
   "id": "962dfa38",
   "metadata": {},
   "outputs": [
    {
     "data": {
      "text/plain": [
       "4.0"
      ]
     },
     "execution_count": 45,
     "metadata": {},
     "output_type": "execute_result"
    }
   ],
   "source": [
    "actual_rating"
   ]
  },
  {
   "cell_type": "code",
   "execution_count": 66,
   "id": "b803ce68",
   "metadata": {},
   "outputs": [],
   "source": [
    "reviews = parser1.find(\"span\", attrs={'id':'acrCustomerReviewText'})"
   ]
  },
  {
   "cell_type": "code",
   "execution_count": 67,
   "id": "e3d23adc",
   "metadata": {},
   "outputs": [
    {
     "name": "stdout",
     "output_type": "stream",
     "text": [
      "<span class=\"a-size-base\" id=\"acrCustomerReviewText\">2 ratings</span>\n"
     ]
    }
   ],
   "source": [
    "type(reviews)\n",
    "print(reviews)"
   ]
  },
  {
   "cell_type": "code",
   "execution_count": 68,
   "id": "8d5f11e7",
   "metadata": {},
   "outputs": [
    {
     "data": {
      "text/plain": [
       "'2 ratings'"
      ]
     },
     "execution_count": 68,
     "metadata": {},
     "output_type": "execute_result"
    }
   ],
   "source": [
    "reviews.string"
   ]
  },
  {
   "cell_type": "code",
   "execution_count": 69,
   "id": "482c0558",
   "metadata": {},
   "outputs": [],
   "source": [
    "site = 'https://www.amazon.in/Fossil-Smartwatch-silicone-Bluetooth-calling/dp/B08FX4382S/ref=sr_1_8?crid=F9V2HJV8ICHJ&keywords=fossil%2Bwatches%2Bfor%2Bmen&qid=1672372765&sprefix=fossil%2Bwatches%2Caps%2C214&sr=8-8&th=1'\n",
    "response3 = requests.get(site, headers=HEADERS)\n",
    "content3 = response3.content"
   ]
  },
  {
   "cell_type": "code",
   "execution_count": 71,
   "id": "87d9aab7",
   "metadata": {},
   "outputs": [],
   "source": [
    "parser3 = BeautifulSoup(content3, 'html.parser')"
   ]
  },
  {
   "cell_type": "code",
   "execution_count": 76,
   "id": "20acdcbb",
   "metadata": {},
   "outputs": [],
   "source": [
    "count = parser3.find(\"span\", attrs={'id':'acrCustomerReviewText'}).text"
   ]
  },
  {
   "cell_type": "code",
   "execution_count": 79,
   "id": "b8b15044",
   "metadata": {},
   "outputs": [
    {
     "data": {
      "text/plain": [
       "'11,754'"
      ]
     },
     "execution_count": 79,
     "metadata": {},
     "output_type": "execute_result"
    }
   ],
   "source": [
    "count.split(' ')[0]"
   ]
  },
  {
   "cell_type": "code",
   "execution_count": 82,
   "id": "ce1b415b",
   "metadata": {},
   "outputs": [
    {
     "data": {
      "text/plain": [
       "'In stock.'"
      ]
     },
     "execution_count": 82,
     "metadata": {},
     "output_type": "execute_result"
    }
   ],
   "source": [
    "parser3.find(\"div\", attrs={'id' : 'availability'}).find(\"span\", attrs={'class':'a-size-medium a-color-success'}).text.strip()"
   ]
  }
 ],
 "metadata": {
  "kernelspec": {
   "display_name": "Python 3 (ipykernel)",
   "language": "python",
   "name": "python3"
  },
  "language_info": {
   "codemirror_mode": {
    "name": "ipython",
    "version": 3
   },
   "file_extension": ".py",
   "mimetype": "text/x-python",
   "name": "python",
   "nbconvert_exporter": "python",
   "pygments_lexer": "ipython3",
   "version": "3.9.13"
  }
 },
 "nbformat": 4,
 "nbformat_minor": 5
}
